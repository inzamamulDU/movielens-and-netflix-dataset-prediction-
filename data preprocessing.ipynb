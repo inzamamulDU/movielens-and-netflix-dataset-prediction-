{
 "cells": [
  {
   "cell_type": "code",
   "execution_count": 1,
   "metadata": {},
   "outputs": [],
   "source": [
    "from datetime import datetime\n",
    "# globalstart = datetime.now()\n",
    "import pandas as pd\n",
    "import numpy as np\n",
    "# import matplotlib\n",
    "# matplotlib.use('nbagg')\n",
    "\n",
    "# import matplotlib.pyplot as plt\n",
    "# plt.rcParams.update({'figure.max_open_warning': 0})\n",
    "\n",
    "# import seaborn as sns\n",
    "# sns.set_style('whitegrid')\n",
    "import os\n",
    "# from scipy import sparse\n",
    "# from scipy.sparse import csr_matrix\n",
    "\n",
    "# from sklearn.decomposition import TruncatedSVD\n",
    "# from sklearn.metrics.pairwise import cosine_similarity\n",
    "import random"
   ]
  },
  {
   "cell_type": "code",
   "execution_count": 2,
   "metadata": {},
   "outputs": [
    {
     "name": "stdout",
     "output_type": "stream",
     "text": [
      "Reading ratings from combined_data_2.txt...\n",
      "Done.\n",
      "\n",
      "Reading ratings from combined_data_3.txt...\n",
      "Done.\n",
      "\n",
      "Time taken : 0:05:11.962107\n"
     ]
    }
   ],
   "source": [
    "start = datetime.now()\n",
    "#if data.csv not exist it will go inside if\n",
    "if not os.path.isfile('data1.csv'):\n",
    "    # Create a file 'data.csv' before reading it\n",
    "    # Read all the files in netflix and store them in one big file('data.csv')\n",
    "    # We re reading from each of the four files and appendig each rating to a global file 'train.csv'\n",
    "    data = open('data1.csv', mode='w')\n",
    "    \n",
    "    row = list()\n",
    "    files=['combined_data_2.txt', \n",
    "           'combined_data_3.txt']\n",
    "#     files=['combined_data_1.txt','combined_data_2.txt', \n",
    "#            'combined_data_3.txt','combined_data_4.txt']\n",
    "    for file in files:\n",
    "        print(\"Reading ratings from {}...\".format(file))\n",
    "        with open(file) as f:\n",
    "            for line in f: \n",
    "                del row[:] # you don't have to do this.\n",
    "                line = line.strip()\n",
    "                if line.endswith(':'):\n",
    "                    # All below are ratings for this movie, until another movie appears.\n",
    "                    movie_id = line.replace(':', '')\n",
    "                else:\n",
    "                    row = [x for x in line.split(',')]\n",
    "                    row.insert(0, movie_id)\n",
    "                    data.write(','.join(row))\n",
    "                    data.write('\\n')\n",
    "        print(\"Done.\\n\")\n",
    "    data.close()\n",
    "print('Time taken :', datetime.now() - start)"
   ]
  },
  {
   "cell_type": "code",
   "execution_count": 5,
   "metadata": {},
   "outputs": [
    {
     "name": "stdout",
     "output_type": "stream",
     "text": [
      "Time taken for execution of above code = 0:00:43.756189\n"
     ]
    }
   ],
   "source": [
    "# creating pickle data frame from our output csv file.\n",
    "if not os.path.isfile('Data.pkl'):\n",
    "    startTime = datetime.now()\n",
    "    Final_Data = pd.read_csv('Data1.csv', sep=\",\", names = [\"MovieID\",\"CustID\", \"Ratings\", \"Date\"])\n",
    "    Final_Data[\"Date\"] = pd.to_datetime(Final_Data[\"Date\"])\n",
    "    Final_Data.sort_values(by = \"Date\", inplace = True)\n",
    "    print(\"Time taken for execution of above code = \"+str(datetime.now() - startTime))"
   ]
  },
  {
   "cell_type": "code",
   "execution_count": 6,
   "metadata": {},
   "outputs": [],
   "source": [
    "# storing pandas dataframe as a picklefile for later use\n",
    "if not os.path.isfile('Data.pkl'):\n",
    "    Final_Data.to_pickle('Data.pkl')\n",
    "else:\n",
    "    Final_Data = pd.read_pickle('Data.pkl')"
   ]
  },
  {
   "cell_type": "code",
   "execution_count": 7,
   "metadata": {},
   "outputs": [
    {
     "data": {
      "text/html": [
       "<div>\n",
       "<style scoped>\n",
       "    .dataframe tbody tr th:only-of-type {\n",
       "        vertical-align: middle;\n",
       "    }\n",
       "\n",
       "    .dataframe tbody tr th {\n",
       "        vertical-align: top;\n",
       "    }\n",
       "\n",
       "    .dataframe thead th {\n",
       "        text-align: right;\n",
       "    }\n",
       "</style>\n",
       "<table border=\"1\" class=\"dataframe\">\n",
       "  <thead>\n",
       "    <tr style=\"text-align: right;\">\n",
       "      <th></th>\n",
       "      <th>MovieID</th>\n",
       "      <th>CustID</th>\n",
       "      <th>Ratings</th>\n",
       "      <th>Date</th>\n",
       "    </tr>\n",
       "  </thead>\n",
       "  <tbody>\n",
       "    <tr>\n",
       "      <td>38174877</td>\n",
       "      <td>11313</td>\n",
       "      <td>510180</td>\n",
       "      <td>2</td>\n",
       "      <td>1999-11-11</td>\n",
       "    </tr>\n",
       "    <tr>\n",
       "      <td>34645015</td>\n",
       "      <td>10774</td>\n",
       "      <td>510180</td>\n",
       "      <td>3</td>\n",
       "      <td>1999-11-11</td>\n",
       "    </tr>\n",
       "    <tr>\n",
       "      <td>24047847</td>\n",
       "      <td>8651</td>\n",
       "      <td>510180</td>\n",
       "      <td>2</td>\n",
       "      <td>1999-11-11</td>\n",
       "    </tr>\n",
       "    <tr>\n",
       "      <td>6465113</td>\n",
       "      <td>5571</td>\n",
       "      <td>510180</td>\n",
       "      <td>4</td>\n",
       "      <td>1999-11-11</td>\n",
       "    </tr>\n",
       "    <tr>\n",
       "      <td>22463125</td>\n",
       "      <td>8357</td>\n",
       "      <td>510180</td>\n",
       "      <td>4</td>\n",
       "      <td>1999-11-11</td>\n",
       "    </tr>\n",
       "  </tbody>\n",
       "</table>\n",
       "</div>"
      ],
      "text/plain": [
       "          MovieID  CustID  Ratings       Date\n",
       "38174877    11313  510180        2 1999-11-11\n",
       "34645015    10774  510180        3 1999-11-11\n",
       "24047847     8651  510180        2 1999-11-11\n",
       "6465113      5571  510180        4 1999-11-11\n",
       "22463125     8357  510180        4 1999-11-11"
      ]
     },
     "execution_count": 7,
     "metadata": {},
     "output_type": "execute_result"
    }
   ],
   "source": [
    "Final_Data.head()"
   ]
  },
  {
   "cell_type": "code",
   "execution_count": 8,
   "metadata": {},
   "outputs": [
    {
     "data": {
      "text/plain": [
       "count    4.957922e+07\n",
       "mean     3.596462e+00\n",
       "std      1.087642e+00\n",
       "min      1.000000e+00\n",
       "25%      3.000000e+00\n",
       "50%      4.000000e+00\n",
       "75%      4.000000e+00\n",
       "max      5.000000e+00\n",
       "Name: Ratings, dtype: float64"
      ]
     },
     "execution_count": 8,
     "metadata": {},
     "output_type": "execute_result"
    }
   ],
   "source": [
    "Final_Data.describe()[\"Ratings\"]"
   ]
  },
  {
   "cell_type": "code",
   "execution_count": 9,
   "metadata": {},
   "outputs": [
    {
     "name": "stdout",
     "output_type": "stream",
     "text": [
      "Number of NaN values = MovieID    0\n",
      "CustID     0\n",
      "Ratings    0\n",
      "Date       0\n",
      "dtype: int64\n"
     ]
    }
   ],
   "source": [
    "# just to make sure that all Nan containing rows are deleted..\n",
    "print(\"Number of NaN values = \"+str(Final_Data.isnull().sum()))"
   ]
  },
  {
   "cell_type": "code",
   "execution_count": 10,
   "metadata": {},
   "outputs": [
    {
     "name": "stdout",
     "output_type": "stream",
     "text": [
      "Number of duplicate rows = 0\n"
     ]
    }
   ],
   "source": [
    "duplicates = Final_Data.duplicated([\"MovieID\",\"CustID\", \"Ratings\"])\n",
    "print(\"Number of duplicate rows = \"+str(duplicates.sum())) # by considering all columns..( including timestamp)"
   ]
  },
  {
   "cell_type": "code",
   "execution_count": 11,
   "metadata": {},
   "outputs": [
    {
     "name": "stdout",
     "output_type": "stream",
     "text": [
      "Total Data:\n",
      "Total number of movie ratings = 49579220\n",
      "Number of unique users = 478437\n",
      "Number of unique movies = 8868\n"
     ]
    }
   ],
   "source": [
    "print(\"Total Data:\")\n",
    "print(\"Total number of movie ratings = \"+str(Final_Data.shape[0]))\n",
    "print(\"Number of unique users = \"+str(len(np.unique(Final_Data[\"CustID\"]))))\n",
    "print(\"Number of unique movies = \"+str(len(np.unique(Final_Data[\"MovieID\"]))))"
   ]
  },
  {
   "cell_type": "code",
   "execution_count": null,
   "metadata": {},
   "outputs": [],
   "source": []
  }
 ],
 "metadata": {
  "kernelspec": {
   "display_name": "Python 3",
   "language": "python",
   "name": "python3"
  },
  "language_info": {
   "codemirror_mode": {
    "name": "ipython",
    "version": 3
   },
   "file_extension": ".py",
   "mimetype": "text/x-python",
   "name": "python",
   "nbconvert_exporter": "python",
   "pygments_lexer": "ipython3",
   "version": "3.7.4"
  }
 },
 "nbformat": 4,
 "nbformat_minor": 4
}
